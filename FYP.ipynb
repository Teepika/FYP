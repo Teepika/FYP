{
  "nbformat": 4,
  "nbformat_minor": 0,
  "metadata": {
    "colab": {
      "provenance": [],
      "authorship_tag": "ABX9TyOqvQ8KhHpt3WzNiX2pzIpN",
      "include_colab_link": true
    },
    "kernelspec": {
      "name": "python3",
      "display_name": "Python 3"
    },
    "language_info": {
      "name": "python"
    }
  },
  "cells": [
    {
      "cell_type": "markdown",
      "metadata": {
        "id": "view-in-github",
        "colab_type": "text"
      },
      "source": [
        "<a href=\"https://colab.research.google.com/github/Teepika/FYP/blob/main/FYP.ipynb\" target=\"_parent\"><img src=\"https://colab.research.google.com/assets/colab-badge.svg\" alt=\"Open In Colab\"/></a>"
      ]
    },
    {
      "cell_type": "code",
      "execution_count": 2,
      "metadata": {
        "colab": {
          "base_uri": "https://localhost:8080/"
        },
        "id": "bt3AU3daAIpW",
        "outputId": "ba2cca45-d7c0-45e8-9271-851212089d8f"
      },
      "outputs": [
        {
          "output_type": "stream",
          "name": "stdout",
          "text": [
            "Collecting pdfplumber\n",
            "  Downloading pdfplumber-0.10.3-py3-none-any.whl (48 kB)\n",
            "\u001b[?25l     \u001b[90m━━━━━━━━━━━━━━━━━━━━━━━━━━━━━━━━━━━━━━━━\u001b[0m \u001b[32m0.0/49.0 kB\u001b[0m \u001b[31m?\u001b[0m eta \u001b[36m-:--:--\u001b[0m\r\u001b[2K     \u001b[90m━━━━━━━━━━━━━━━━━━━━━━━━━━━━━━━━━━━━━━━━\u001b[0m \u001b[32m49.0/49.0 kB\u001b[0m \u001b[31m1.9 MB/s\u001b[0m eta \u001b[36m0:00:00\u001b[0m\n",
            "\u001b[?25hCollecting pdfminer.six==20221105 (from pdfplumber)\n",
            "  Downloading pdfminer.six-20221105-py3-none-any.whl (5.6 MB)\n",
            "\u001b[2K     \u001b[90m━━━━━━━━━━━━━━━━━━━━━━━━━━━━━━━━━━━━━━━━\u001b[0m \u001b[32m5.6/5.6 MB\u001b[0m \u001b[31m63.6 MB/s\u001b[0m eta \u001b[36m0:00:00\u001b[0m\n",
            "\u001b[?25hRequirement already satisfied: Pillow>=9.1 in /usr/local/lib/python3.10/dist-packages (from pdfplumber) (9.4.0)\n",
            "Collecting pypdfium2>=4.18.0 (from pdfplumber)\n",
            "  Downloading pypdfium2-4.24.0-py3-none-manylinux_2_17_x86_64.whl (3.0 MB)\n",
            "\u001b[2K     \u001b[90m━━━━━━━━━━━━━━━━━━━━━━━━━━━━━━━━━━━━━━━━\u001b[0m \u001b[32m3.0/3.0 MB\u001b[0m \u001b[31m93.6 MB/s\u001b[0m eta \u001b[36m0:00:00\u001b[0m\n",
            "\u001b[?25hRequirement already satisfied: charset-normalizer>=2.0.0 in /usr/local/lib/python3.10/dist-packages (from pdfminer.six==20221105->pdfplumber) (3.3.2)\n",
            "Requirement already satisfied: cryptography>=36.0.0 in /usr/local/lib/python3.10/dist-packages (from pdfminer.six==20221105->pdfplumber) (41.0.5)\n",
            "Requirement already satisfied: cffi>=1.12 in /usr/local/lib/python3.10/dist-packages (from cryptography>=36.0.0->pdfminer.six==20221105->pdfplumber) (1.16.0)\n",
            "Requirement already satisfied: pycparser in /usr/local/lib/python3.10/dist-packages (from cffi>=1.12->cryptography>=36.0.0->pdfminer.six==20221105->pdfplumber) (2.21)\n",
            "Installing collected packages: pypdfium2, pdfminer.six, pdfplumber\n",
            "Successfully installed pdfminer.six-20221105 pdfplumber-0.10.3 pypdfium2-4.24.0\n"
          ]
        }
      ],
      "source": [
        "!pip install pdfplumber"
      ]
    },
    {
      "cell_type": "code",
      "source": [
        "import requests\n",
        "import pdfplumber\n",
        "\n",
        "# URL of the PDF file\n",
        "pdf_url = \"https://www.cbsl.gov.lk/sites/default/files/cbslweb_documents/statistics/pricerpt/price_report_20231019_e.pdf\"\n",
        "\n",
        "# Download the PDF\n",
        "response = requests.get(pdf_url)\n",
        "with open(\"price_report.pdf\", \"wb\") as pdf_file:\n",
        "    pdf_file.write(response.content)\n",
        "\n",
        "# Open the downloaded PDF file\n",
        "with pdfplumber.open(\"price_report.pdf\") as pdf:\n",
        "    # Access the second page (page indexing starts from 0)\n",
        "    page = pdf.pages[1]\n",
        "\n",
        "    # Extract text from the second page\n",
        "    text = page.extract_text()\n",
        "\n",
        "# Print the extracted text\n",
        "print(text)"
      ],
      "metadata": {
        "colab": {
          "base_uri": "https://localhost:8080/"
        },
        "id": "-0ATGsf6Argi",
        "outputId": "d4bd3d66-6ad6-4896-e104-50d59364d13d"
      },
      "execution_count": 3,
      "outputs": [
        {
          "output_type": "stream",
          "name": "stdout",
          "text": [
            "Wholesale and Retail Prices: Selected Food Commodities - 19 October 2023\n",
            "Wholesale Prices Retail Prices\n",
            "Item Unit\n",
            "Pettah Dambulla Pettah Dambulla Narahenpita\n",
            "Yesterday Today Yesterday Today Yesterday Today Yesterday Today Yesterday Today\n",
            "V E G E T A B L E S\n",
            "Beans Rs./kg 4 50.00 4 00.00 3 35.00 4 65.00 5 00.00 4 50.00 3 65.00 4 95.00 4 80.00 4 00.00\n",
            "Carrot Rs./kg 1 50.00 1 50.00 1 55.00 1 75.00 2 00.00 2 00.00 1 85.00 2 05.00 2 80.00 2 80.00\n",
            "Cabbage Rs./kg 8 0.00 8 0.00 7 5.00 8 0.00 1 30.00 1 30.00 1 05.00 1 10.00 2 00.00 2 40.00\n",
            "Tomato Rs./kg 1 50.00 1 60.00 9 0.00 9 5.00 2 00.00 2 20.00 1 20.00 1 25.00 2 80.00 2 80.00\n",
            "Brinjal Rs./kg 3 00.00 2 50.00 1 90.00 2 25.00 3 50.00 3 00.00 2 20.00 2 55.00 4 80.00 4 00.00\n",
            "Pumpkin Rs./kg 5 0.00 5 0.00 4 3.00 3 8.00 1 00.00 1 00.00 7 3.00 6 8.00 1 20.00 1 20.00\n",
            "Snake gourd Rs./kg 2 50.00 2 70.00 1 65.00 1 65.00 3 00.00 3 20.00 1 95.00 1 95.00 3 60.00 3 20.00\n",
            "Green Chilli Rs./kg 4 00.00 3 50.00 3 25.00 3 00.00 4 50.00 4 00.00 3 55.00 3 30.00 6 00.00 6 00.00\n",
            "Lime Rs./kg 1 ,400.00 1 ,400.00 1 ,375.00 1 ,450.00 1 ,600.00 1 ,600.00 1 ,405.00 1 ,480.00 2 ,400.00 2 ,000.00\n",
            "O T H E R\n",
            "Red Onion (Local) Rs./kg 3 58.00 3 53.00 2 95.00 3 00.00 3 70.00 4 00.00 3 15.00 3 20.00 4 80.00 4 80.00\n",
            "Red Onion (lmp) Rs./kg n.a. n.a. n.a. n.a. n.a. n.a. n.a. n.a. n.a. n.a.\n",
            "Big Onion (Local) Rs./kg 2 20.00 n.a. 2 25.00 2 25.00 n.a. n.a. 2 45.00 2 45.00 n.a. n.a.\n",
            "Big Onion (Imp) Rs./kg 2 23.00 2 28.00 2 30.00 1 95.00 2 40.00 2 40.00 2 50.00 2 15.00 2 40.00 2 40.00\n",
            "Potato (Local) Rs./kg 2 32.00 2 33.00 2 30.00 n.a. 2 60.00 2 60.00 2 50.00 n.a. 3 20.00 3 20.00\n",
            "Potato (Imp) Rs./kg 1 86.00 1 81.00 1 85.00 1 65.00 2 10.00 2 10.00 2 05.00 1 85.00 2 00.00 2 00.00\n",
            "Dried Chilli (Imp) Rs./kg 1 ,025.00 1 ,050.00 1 ,025.00 1 ,025.00 1 ,180.00 1 ,180.00 1 ,055.00 1 ,055.00 1 ,200.00 1 ,200.00\n",
            "Coconut (Avg.) Rs./Nut 8 5.00 8 5.00 7 5.00 6 8.00 1 20.00 1 20.00 8 0.00 7 3.00 1 10.00 1 10.00\n",
            "Coconut oil Rs./Ltr 5 17.00 5 17.00 5 87.00 5 87.00 5 46.00 5 46.00\n",
            "Red Dhal Rs./kg 2 98.00 2 98.00 3 20.00 3 20.00 3 40.00 3 40.00\n",
            "Sugar (White) Rs./kg 2 59.00 2 60.00 2 75.00 2 75.00 2 60.00 2 60.00\n",
            "Egg (White) Rs./Each 4 6.00 4 5.00 4 6.50 4 5.50 4 7.00 4 7.00\n",
            "Katta Rs./kg 1 ,700.00 1 ,700.00 2 ,000.00 2 ,000.00 2 ,500.00 2 ,500.00\n",
            "Sprat (Imp) Rs./kg 1 ,000.00 1 ,000.00 1 ,200.00 1 ,200.00 1 ,600.00 1 ,600.00\n",
            "F R U I T S\n",
            "Banana (Sour) Rs./kg 1 60.00 1 60.00 1 50.00 1 45.00 2 00.00 2 00.00 1 80.00 1 75.00 2 40.00 2 40.00\n",
            "Papaw Rs./kg 1 00.00 1 00.00 5 5.00 7 3.00 1 40.00 1 40.00 8 5.00 1 03.00 1 90.00 1 90.00\n",
            "Pineapple Rs./kg n.a. n.a. 3 75.00 2 90.00 4 00.00 3 50.00 4 05.00 3 05.00 5 50.00 5 50.00\n",
            "Apple (Imp) Rs./Each 2 05.00 2 00.00 2 50.00 2 50.00\n",
            "Orange (Imp) Rs./Each 2 05.00 2 05.00 2 50.00 2 50.00\n",
            "R I C E\n",
            "Marandagahamula\n",
            "Samba Rs./kg 2 23.00 2 23.00 2 17.00 2 17.00 2 40.00 2 40.00 2 30.00 2 30.00 2 30.00 2 30.00\n",
            "Nadu Rs./kg 1 98.00 1 98.00 1 98.00 1 98.00 2 20.00 2 20.00 1 95.00 1 95.00 2 20.00 2 20.00\n",
            "Kekulu (White) Rs./kg 1 90.00 1 90.00 1 87.00 1 87.00 2 10.00 2 10.00 1 82.00 1 82.00 2 10.00 2 10.00\n",
            "Kekulu (Red) Rs./kg 1 75.00 1 75.00 1 75.00 1 73.00 1 95.00 1 95.00 1 82.00 1 82.00 1 85.00 1 85.00\n",
            "Ponni Samba (Imp) Rs./kg n.a. n.a. n.a. n.a. n.a. n.a. n.a. n.a.\n",
            "Nadu (Imp) Rs./kg n.a. n.a. n.a. n.a. n.a. n.a. n.a. n.a.\n",
            "Kekulu (White) (Imp) Rs./kg n.a. n.a. n.a. n.a. n.a. n.a. 2 45.00 2 45.00\n",
            "F I S H\n",
            "Peliyagoda Negombo Negombo\n",
            "Kelawalla Rs./kg 9 00.00 9 00.00 1 ,050.00 1 ,050.00 1 ,560.00 1 ,560.00 1 ,980.00 1 ,900.00\n",
            "Thalapath Rs./kg 1 ,600.00 1 ,500.00 n.a. n.a. n.a. n.a. 2 ,400.00 2 ,300.00\n",
            "Balaya Rs./kg 5 00.00 4 50.00 n.a. 5 80.00 n.a. 7 60.00 7 80.00 7 80.00\n",
            "Paraw Rs./kg 6 50.00 7 00.00 n.a. 1 ,000.00 n.a. 1 ,800.00 n.a. n.a.\n",
            "Salaya Rs./kg 1 80.00 1 00.00 2 00.00 1 60.00 3 50.00 2 90.00 2 60.00 2 60.00\n",
            "Hurulla Rs./kg 3 50.00 3 00.00 3 60.00 3 20.00 5 50.00 4 90.00 5 60.00 4 80.00\n",
            "Linna Rs./kg 4 30.00 3 60.00 4 50.00 4 20.00 6 20.00 5 90.00 5 40.00 5 40.00\n",
            "Price increased by more than 5% compared to yesterday's price.\n",
            "Price decreased by more than 5% compared to yesterday's price.\n"
          ]
        }
      ]
    },
    {
      "cell_type": "code",
      "source": [
        "import re\n",
        "\n",
        "# Define a regular expression pattern to match the section containing vegetable prices\n",
        "vegetable_pattern = re.compile(r\"V E G E T A B L E S(.*?)O T H E R\", re.DOTALL)\n",
        "\n",
        "# Find the match in the extracted text\n",
        "vegetable_match = vegetable_pattern.search(text)\n",
        "\n",
        "# Extract the matched portion (containing vegetable prices)\n",
        "vegetable_prices_section = vegetable_match.group(1).strip() if vegetable_match else \"\"\n",
        "\n",
        "# Print the extracted vegetable prices\n",
        "print(vegetable_prices_section)"
      ],
      "metadata": {
        "colab": {
          "base_uri": "https://localhost:8080/"
        },
        "id": "o9RnNcWxArqL",
        "outputId": "aa759ea4-8fc2-4273-a2e5-9f80929f5985"
      },
      "execution_count": 4,
      "outputs": [
        {
          "output_type": "stream",
          "name": "stdout",
          "text": [
            "Beans Rs./kg 4 50.00 4 00.00 3 35.00 4 65.00 5 00.00 4 50.00 3 65.00 4 95.00 4 80.00 4 00.00\n",
            "Carrot Rs./kg 1 50.00 1 50.00 1 55.00 1 75.00 2 00.00 2 00.00 1 85.00 2 05.00 2 80.00 2 80.00\n",
            "Cabbage Rs./kg 8 0.00 8 0.00 7 5.00 8 0.00 1 30.00 1 30.00 1 05.00 1 10.00 2 00.00 2 40.00\n",
            "Tomato Rs./kg 1 50.00 1 60.00 9 0.00 9 5.00 2 00.00 2 20.00 1 20.00 1 25.00 2 80.00 2 80.00\n",
            "Brinjal Rs./kg 3 00.00 2 50.00 1 90.00 2 25.00 3 50.00 3 00.00 2 20.00 2 55.00 4 80.00 4 00.00\n",
            "Pumpkin Rs./kg 5 0.00 5 0.00 4 3.00 3 8.00 1 00.00 1 00.00 7 3.00 6 8.00 1 20.00 1 20.00\n",
            "Snake gourd Rs./kg 2 50.00 2 70.00 1 65.00 1 65.00 3 00.00 3 20.00 1 95.00 1 95.00 3 60.00 3 20.00\n",
            "Green Chilli Rs./kg 4 00.00 3 50.00 3 25.00 3 00.00 4 50.00 4 00.00 3 55.00 3 30.00 6 00.00 6 00.00\n",
            "Lime Rs./kg 1 ,400.00 1 ,400.00 1 ,375.00 1 ,450.00 1 ,600.00 1 ,600.00 1 ,405.00 1 ,480.00 2 ,400.00 2 ,000.00\n"
          ]
        }
      ]
    },
    {
      "cell_type": "code",
      "source": [
        "import re\n",
        "\n",
        "\n",
        "# Define a function to extract prices for a specific vegetable\n",
        "def extract_vegetable_prices(vegetable_name, text):\n",
        "    # Find the line containing the vegetable_name\n",
        "    pattern = re.compile(f'{vegetable_name} Rs./kg (.+)')\n",
        "    match = pattern.search(text)\n",
        "\n",
        "    if match:\n",
        "        # Extract the prices from the matched line and handle the gap\n",
        "        prices_with_gap = match.group(1).split()\n",
        "        prices_fixed_gap = [f\"{prices_with_gap[i]}{prices_with_gap[i+1]}\" for i in range(0, len(prices_with_gap), 2)]\n",
        "        return ' '.join(prices_fixed_gap)\n",
        "    else:\n",
        "        return None\n",
        "\n",
        "# Extract prices for \"Beans\"\n",
        "beans_prices = extract_vegetable_prices(\"Beans\",vegetable_prices_section )\n",
        "\n",
        "# Print the extracted prices for \"Beans\"\n",
        "print(f\"Beans Rs.kg: {beans_prices}\")"
      ],
      "metadata": {
        "colab": {
          "base_uri": "https://localhost:8080/"
        },
        "id": "Ol3L6yHCArsj",
        "outputId": "1a678a30-7059-472b-c8a5-b2de025c45cc"
      },
      "execution_count": 5,
      "outputs": [
        {
          "output_type": "stream",
          "name": "stdout",
          "text": [
            "Beans Rs.kg: 450.00 400.00 335.00 465.00 500.00 450.00 365.00 495.00 480.00 400.00\n"
          ]
        }
      ]
    },
    {
      "cell_type": "code",
      "source": [
        "# Define a function to extract prices for a specific vegetable\n",
        "def extract_vegetable_prices(vegetable_name, text):\n",
        "    # Find the line containing the vegetable_name\n",
        "    pattern = re.compile(f'{vegetable_name} Rs./kg (.+)')\n",
        "    match = pattern.search(text)\n",
        "\n",
        "    if match:\n",
        "        # Extract the prices from the matched line and handle the gap\n",
        "        prices_with_gap = match.group(1).split()\n",
        "        prices_fixed_gap = [f\"{prices_with_gap[i]}{prices_with_gap[i+1]}\" for i in range(0, len(prices_with_gap), 2)]\n",
        "        return ' '.join(prices_fixed_gap)\n",
        "    else:\n",
        "        return None\n",
        "\n",
        "# List of vegetable names\n",
        "vegetable_names = [\"Beans\", \"Carrot\", \"Cabbage\", \"Tomato\", \"Brinjal\", \"Pumpkin\", \"Snake gourd\", \"Green Chilli\", \"Lime\"]\n",
        "\n",
        "# Extract prices for each vegetable\n",
        "for vegetable_name in vegetable_names:\n",
        "    vegetable_prices = extract_vegetable_prices(vegetable_name, vegetable_prices_section)\n",
        "    print(f\"{vegetable_name} Rs./kg: {vegetable_prices}\")"
      ],
      "metadata": {
        "colab": {
          "base_uri": "https://localhost:8080/"
        },
        "id": "SjTauMZfArvR",
        "outputId": "d6213326-0a44-4074-8906-e2d45f65b3c1"
      },
      "execution_count": 6,
      "outputs": [
        {
          "output_type": "stream",
          "name": "stdout",
          "text": [
            "Beans Rs./kg: 450.00 400.00 335.00 465.00 500.00 450.00 365.00 495.00 480.00 400.00\n",
            "Carrot Rs./kg: 150.00 150.00 155.00 175.00 200.00 200.00 185.00 205.00 280.00 280.00\n",
            "Cabbage Rs./kg: 80.00 80.00 75.00 80.00 130.00 130.00 105.00 110.00 200.00 240.00\n",
            "Tomato Rs./kg: 150.00 160.00 90.00 95.00 200.00 220.00 120.00 125.00 280.00 280.00\n",
            "Brinjal Rs./kg: 300.00 250.00 190.00 225.00 350.00 300.00 220.00 255.00 480.00 400.00\n",
            "Pumpkin Rs./kg: 50.00 50.00 43.00 38.00 100.00 100.00 73.00 68.00 120.00 120.00\n",
            "Snake gourd Rs./kg: 250.00 270.00 165.00 165.00 300.00 320.00 195.00 195.00 360.00 320.00\n",
            "Green Chilli Rs./kg: 400.00 350.00 325.00 300.00 450.00 400.00 355.00 330.00 600.00 600.00\n",
            "Lime Rs./kg: 1,400.00 1,400.00 1,375.00 1,450.00 1,600.00 1,600.00 1,405.00 1,480.00 2,400.00 2,000.00\n"
          ]
        }
      ]
    },
    {
      "cell_type": "code",
      "source": [
        "import csv\n",
        "from google.colab import files  # Import the files module\n",
        "\n",
        "# Define a function to extract prices for a specific vegetable\n",
        "def extract_vegetable_prices(vegetable_name, text):\n",
        "    # Find the line containing the vegetable_name\n",
        "    pattern = re.compile(f'{vegetable_name} Rs./kg (.+)')\n",
        "    match = pattern.search(text)\n",
        "\n",
        "    if match:\n",
        "        # Extract the prices from the matched line and handle the gap\n",
        "        prices_with_gap = match.group(1).split()\n",
        "        prices_fixed_gap = [f\"{prices_with_gap[i]}{prices_with_gap[i+1]}\" for i in range(0, len(prices_with_gap), 2)]\n",
        "        return prices_fixed_gap\n",
        "    else:\n",
        "        return None\n",
        "\n",
        "# List of vegetable names\n",
        "vegetable_names = [\"Beans\", \"Carrot\", \"Cabbage\", \"Tomato\", \"Brinjal\", \"Pumpkin\", \"Snake gourd\", \"Green Chilli\", \"Lime\"]\n",
        "\n",
        "# Specify the directory for the CSV file (this won't be used in Colab)\n",
        "csv_filename = \"C:/Users/Teepika/Desktop/FYP/vegetable_prices.csv\"\n",
        "\n",
        "# Create a CSV file and write headers\n",
        "csv_data = [[\"Vegetable\", \"Unit\"]]\n",
        "\n",
        "# Extract and write prices for each vegetable\n",
        "for vegetable_name in vegetable_names:\n",
        "    vegetable_prices = extract_vegetable_prices(vegetable_name, vegetable_prices_section)\n",
        "    if vegetable_prices:\n",
        "        csv_data.append([vegetable_name, \"Rs./kg\"] + vegetable_prices)\n",
        "\n",
        "# Save the CSV data to a file in Colab\n",
        "csv_filename_colab = \"vegetable_prices.csv\"\n",
        "with open(csv_filename_colab, mode='w', newline='') as file:\n",
        "    writer = csv.writer(file)\n",
        "    writer.writerows(csv_data)\n",
        "\n",
        "# Download the CSV file in Colab\n",
        "files.download(csv_filename_colab)\n"
      ],
      "metadata": {
        "colab": {
          "base_uri": "https://localhost:8080/",
          "height": 17
        },
        "id": "t5shO6LAArw8",
        "outputId": "38409387-c651-4a51-83df-617096bae3fd"
      },
      "execution_count": 7,
      "outputs": [
        {
          "output_type": "display_data",
          "data": {
            "text/plain": [
              "<IPython.core.display.Javascript object>"
            ],
            "application/javascript": [
              "\n",
              "    async function download(id, filename, size) {\n",
              "      if (!google.colab.kernel.accessAllowed) {\n",
              "        return;\n",
              "      }\n",
              "      const div = document.createElement('div');\n",
              "      const label = document.createElement('label');\n",
              "      label.textContent = `Downloading \"${filename}\": `;\n",
              "      div.appendChild(label);\n",
              "      const progress = document.createElement('progress');\n",
              "      progress.max = size;\n",
              "      div.appendChild(progress);\n",
              "      document.body.appendChild(div);\n",
              "\n",
              "      const buffers = [];\n",
              "      let downloaded = 0;\n",
              "\n",
              "      const channel = await google.colab.kernel.comms.open(id);\n",
              "      // Send a message to notify the kernel that we're ready.\n",
              "      channel.send({})\n",
              "\n",
              "      for await (const message of channel.messages) {\n",
              "        // Send a message to notify the kernel that we're ready.\n",
              "        channel.send({})\n",
              "        if (message.buffers) {\n",
              "          for (const buffer of message.buffers) {\n",
              "            buffers.push(buffer);\n",
              "            downloaded += buffer.byteLength;\n",
              "            progress.value = downloaded;\n",
              "          }\n",
              "        }\n",
              "      }\n",
              "      const blob = new Blob(buffers, {type: 'application/binary'});\n",
              "      const a = document.createElement('a');\n",
              "      a.href = window.URL.createObjectURL(blob);\n",
              "      a.download = filename;\n",
              "      div.appendChild(a);\n",
              "      a.click();\n",
              "      div.remove();\n",
              "    }\n",
              "  "
            ]
          },
          "metadata": {}
        },
        {
          "output_type": "display_data",
          "data": {
            "text/plain": [
              "<IPython.core.display.Javascript object>"
            ],
            "application/javascript": [
              "download(\"download_b5a9aa55-e9f6-4b8a-948a-f2ab3156d106\", \"vegetable_prices.csv\", 820)"
            ]
          },
          "metadata": {}
        }
      ]
    },
    {
      "cell_type": "code",
      "source": [
        "\n",
        "# Define a regular expression pattern to match the section containing other prices\n",
        "other_pattern = re.compile(r\"O T H E R(.*?)F R U I T S\", re.DOTALL)\n",
        "\n",
        "# Find the match in the extracted text\n",
        "other_match = other_pattern.search(text)\n",
        "\n",
        "# Extract the matched portion (containing other prices)\n",
        "other_prices_section = other_match.group(1).strip() if other_match else \"\"\n",
        "\n",
        "# Print the extracted other prices\n",
        "print(other_prices_section)"
      ],
      "metadata": {
        "colab": {
          "base_uri": "https://localhost:8080/"
        },
        "id": "5NVZjJe0ArzG",
        "outputId": "a7ce86d5-65b9-4b17-efb7-b0f9aab8327b"
      },
      "execution_count": 8,
      "outputs": [
        {
          "output_type": "stream",
          "name": "stdout",
          "text": [
            "Red Onion (Local) Rs./kg 3 58.00 3 53.00 2 95.00 3 00.00 3 70.00 4 00.00 3 15.00 3 20.00 4 80.00 4 80.00\n",
            "Red Onion (lmp) Rs./kg n.a. n.a. n.a. n.a. n.a. n.a. n.a. n.a. n.a. n.a.\n",
            "Big Onion (Local) Rs./kg 2 20.00 n.a. 2 25.00 2 25.00 n.a. n.a. 2 45.00 2 45.00 n.a. n.a.\n",
            "Big Onion (Imp) Rs./kg 2 23.00 2 28.00 2 30.00 1 95.00 2 40.00 2 40.00 2 50.00 2 15.00 2 40.00 2 40.00\n",
            "Potato (Local) Rs./kg 2 32.00 2 33.00 2 30.00 n.a. 2 60.00 2 60.00 2 50.00 n.a. 3 20.00 3 20.00\n",
            "Potato (Imp) Rs./kg 1 86.00 1 81.00 1 85.00 1 65.00 2 10.00 2 10.00 2 05.00 1 85.00 2 00.00 2 00.00\n",
            "Dried Chilli (Imp) Rs./kg 1 ,025.00 1 ,050.00 1 ,025.00 1 ,025.00 1 ,180.00 1 ,180.00 1 ,055.00 1 ,055.00 1 ,200.00 1 ,200.00\n",
            "Coconut (Avg.) Rs./Nut 8 5.00 8 5.00 7 5.00 6 8.00 1 20.00 1 20.00 8 0.00 7 3.00 1 10.00 1 10.00\n",
            "Coconut oil Rs./Ltr 5 17.00 5 17.00 5 87.00 5 87.00 5 46.00 5 46.00\n",
            "Red Dhal Rs./kg 2 98.00 2 98.00 3 20.00 3 20.00 3 40.00 3 40.00\n",
            "Sugar (White) Rs./kg 2 59.00 2 60.00 2 75.00 2 75.00 2 60.00 2 60.00\n",
            "Egg (White) Rs./Each 4 6.00 4 5.00 4 6.50 4 5.50 4 7.00 4 7.00\n",
            "Katta Rs./kg 1 ,700.00 1 ,700.00 2 ,000.00 2 ,000.00 2 ,500.00 2 ,500.00\n",
            "Sprat (Imp) Rs./kg 1 ,000.00 1 ,000.00 1 ,200.00 1 ,200.00 1 ,600.00 1 ,600.00\n"
          ]
        }
      ]
    },
    {
      "cell_type": "code",
      "source": [],
      "metadata": {
        "id": "o9mKvP5TAr2j"
      },
      "execution_count": 9,
      "outputs": []
    }
  ]
}